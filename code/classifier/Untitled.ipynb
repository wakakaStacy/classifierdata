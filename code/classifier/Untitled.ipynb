{
 "cells": [
  {
   "cell_type": "code",
   "execution_count": 6,
   "metadata": {},
   "outputs": [
    {
     "name": "stdout",
     "output_type": "stream",
     "text": [
      "                                                   content  target\n",
      "0        start 一曲 阳关 情 几许 end start 知君 欲 秦川 去 end start...       1\n",
      "1        start 回首 扬州 猖狂 十载 依然 一梦 归来 end start 但觉 安仁 愁鬓 ...       1\n",
      "2        start 欲 清明 烟雨 细 end start 小槛 临窗 点点 残花 坠 end st...       1\n",
      "3        start 晓雾 散晴 渚 秋色 满湘山 end start 青鞋 黄帽 名士 共 跻攀 e...       1\n",
      "4        start 碧 醮 江山 鹤唳 晓 云献 画屏 end start 瑶宫 敞 舞金翔 翠 巍...       1\n",
      "...                                                    ...     ...\n",
      "1296839  start 高蹈 时 背 幽怀 事 兼 end start 神仙 君可致 江海 我能 淹 s...       2\n",
      "1296840  start 岁 岁 荷花 苦未 绿萍 盖 水碍 新荷 end start 请君 六月 重 来...       2\n",
      "1296841  start 涩 舟沙 水岸 棱 棱 岸上 春泥 深 涴 藤 end start 回首 康山怀...       2\n",
      "1296842  start 一官何 幸得 十载 无媒 独见 遗 end start 今日 腰下组 请君 看取...       2\n",
      "1296843  start 世故 吾 问 水滨 向来 不合 典班春 end start 一从 去 作 沧浪 ...       2\n",
      "\n",
      "[1296844 rows x 2 columns]\n"
     ]
    }
   ],
   "source": [
    "# %load appendpd.py\n",
    "import pandas as pd \n",
    "\n",
    "list = [\"C:/Users/12493/Desktop/python/文本/zh_classifier/ci_new.csv\",\"C:/Users/12493/Desktop/python/文本/zh_classifier/news.csv\",\"C:/Users/12493/Desktop/python/文本/zh_classifier/oldliterature.csv\",\n",
    "        \"C:/Users/12493/Desktop/python/文本/zh_classifier/paper.csv\",\"C:/Users/12493/Desktop/python/文本/zh_classifier/poem.csv\"]\n",
    "df_from_each_file = (pd.read_csv(f) for f in list)\n",
    "concatenated_df   = pd.concat(df_from_each_file, ignore_index=True)\n",
    "print(concatenated_df)"
   ]
  },
  {
   "cell_type": "code",
   "execution_count": 8,
   "metadata": {},
   "outputs": [],
   "source": [
    "from sklearn.model_selection import train_test_split\n",
    "X_train,X_test, y_train, y_test = train_test_split(concatenated_df[\"content\"],concatenated_df[\"target\"],test_size=0.2, random_state=42)"
   ]
  },
  {
   "cell_type": "code",
   "execution_count": 3,
   "metadata": {},
   "outputs": [
    {
     "name": "stdout",
     "output_type": "stream",
     "text": [
      "[[0. 0. 0. 0. 1. 0.]\n",
      " [0. 0. 0. 0. 0. 1.]\n",
      " [0. 0. 1. 0. 0. 0.]\n",
      " ...\n",
      " [0. 0. 0. 0. 1. 0.]\n",
      " [0. 0. 0. 0. 0. 1.]\n",
      " [0. 0. 0. 0. 1. 0.]]\n",
      "[4, 5, 2, 3, 3]\n",
      "[1.31198073 0.53685779 0.83841784 ... 1.31198073 0.53685779 1.31198073]\n"
     ]
    }
   ],
   "source": [
    "import numpy as np\n",
    "from keras.utils.np_utils import to_categorical\n",
    "output_vec_categorical = to_categorical(y_train,num_classes=6)\n",
    "print(output_vec_categorical)\n",
    "from sklearn.utils import class_weight\n",
    "y_ints = [y.argmax() for y in output_vec_categorical]\n",
    "print(y_ints[:5])\n",
    "c_w = class_weight.compute_sample_weight('balanced', y_ints)\n",
    "\n",
    "print(c_w)\n",
    "# for i in set(y_ints):\n",
    "#     print(i)\n",
    "#     cw[i-1] = c_w[i-1]"
   ]
  },
  {
   "cell_type": "code",
   "execution_count": 4,
   "metadata": {},
   "outputs": [
    {
     "name": "stdout",
     "output_type": "stream",
     "text": [
      "基于tfidf_bigram模型\n"
     ]
    },
    {
     "name": "stderr",
     "output_type": "stream",
     "text": [
      "D:\\anaconda\\lib\\site-packages\\sklearn\\utils\\validation.py:73: DataConversionWarning: A column-vector y was passed when a 1d array was expected. Please change the shape of y to (n_samples, ), for example using ravel().\n",
      "  return f(**kwargs)\n"
     ]
    },
    {
     "name": "stdout",
     "output_type": "stream",
     "text": [
      "Accuracy: 0.81\n",
      "Precision: 0.82\n",
      "Recall: 0.81\n",
      "F1 Score: 0.81\n"
     ]
    }
   ],
   "source": [
    "from sklearn.feature_extraction.text import CountVectorizer\n",
    "from sklearn.feature_extraction.text import TfidfVectorizer\n",
    "from sklearn.naive_bayes import MultinomialNB\n",
    "import numpy as np\n",
    "from sklearn import metrics\n",
    "import pickle\n",
    "\n",
    "def get_metrics(true_labels, predicted_labels):\n",
    "    print('Accuracy:', np.round(\n",
    "        metrics.accuracy_score(true_labels,\n",
    "                               predicted_labels),2))\n",
    "    print('Precision:', np.round(\n",
    "        metrics.precision_score(true_labels,\n",
    "                                predicted_labels,\n",
    "                                average='weighted'),2))\n",
    "    print('Recall:', np.round(\n",
    "        metrics.recall_score(true_labels,\n",
    "                             predicted_labels,\n",
    "                             average='weighted'),  2))\n",
    "    print('F1 Score:', np.round(\n",
    "        metrics.f1_score(true_labels,\n",
    "                         predicted_labels,\n",
    "                         average='weighted'), 2))\n",
    "    \n",
    "def train_predict_evaluate_model(classifier,\n",
    "                                 train_features, train_labels,\n",
    "                                 test_features, test_labels):\n",
    "    # build model\n",
    "#     print(train_features.shape,train_labels.values.reshape(-1,1).shape)\n",
    "    clf = classifier.fit(train_features, train_labels.values.reshape(-1,1))\n",
    "    predictions = classifier.predict(test_features)\n",
    "    # evaluate model prediction performance\n",
    "    get_metrics(true_labels=test_labels,\n",
    "                predicted_labels=predictions)\n",
    "    with open('model.pkl', 'wb') as f:\n",
    "        pickle.dump(clf, f, pickle.HIGHEST_PROTOCOL)\n",
    "    return predictions\n",
    "\n",
    "mnb = MultinomialNB()\n",
    "vector = CountVectorizer(max_features = 20000 ,min_df=1, ngram_range=(1,1))\n",
    "vector2= CountVectorizer(max_features = 20000,min_df=1, ngram_range=(1,2))\n",
    "tv = TfidfVectorizer(max_features = 30000, max_df = 0.997,lowercase = False)\n",
    "tv_2gram = TfidfVectorizer(max_features=20000, ngram_range=(1,2),lowercase = False)\n",
    "print(\"基于基本词袋模型\")\n",
    "bow_train_features = vector.fit_transform(X_train.astype('U').values)\n",
    "bow_test_features = vector.transform(X_test.astype('U').values)\n",
    "mnb_bow_predictions = train_predict_evaluate_model(classifier=mnb,\n",
    "                                                   train_features=bow_train_features,\n",
    "                                                  train_labels=y_train,\n",
    "                                                  test_features=bow_test_features,\n",
    "                                                  test_labels=y_test)\n",
    "print(\"基于bigram词袋模型\")\n",
    "bow2_train_features = vector2.fit_transform(X_train.astype('U').values)\n",
    "bow2_test_features = vector2.transform(X_test.astype('U').values)\n",
    "mnb_bow2_predictions = train_predict_evaluate_model(classifier=mnb,\n",
    "                                                   train_features=bow2_train_features,\n",
    "                                                  train_labels=y_train,\n",
    "                                                  test_features=bow2_test_features,\n",
    "                                                  test_labels=y_test)\n",
    "\n",
    "\n",
    "print(\"基于tfidf词袋模型\")\n",
    "tv_train_features = tv.fit_transform(X_train.astype('U').values)\n",
    "tv_test_features =  tv.transform(X_test.astype('U').values)\n",
    "mnb_tv_predictions = train_predict_evaluate_model(classifier=mnb,\n",
    "                                                   train_features=tv_train_features,\n",
    "                                                  train_labels=y_train,\n",
    "                                                  test_features=tv_test_features,\n",
    "                                                  test_labels=y_test)\n",
    "\n",
    "print(\"基于tfidf_bigram模型\")\n",
    "tv2_train_features = tv_2gram.fit_transform(X_train.astype('U').values)\n",
    "tv2_test_features = tv_2gram.transform(X_test.astype('U').values)\n",
    "mnb_bow_predictions = train_predict_evaluate_model(classifier=mnb,\n",
    "                                                   train_features=tv2_train_features,\n",
    "                                                  train_labels=y_train,\n",
    "                                                  test_features=tv2_test_features,\n",
    "                                                  test_labels=y_test)\n",
    "with open('vect.pkl', 'wb') as f:\n",
    "     # Pickle the 'data' dictionary using the highest protocol available.\n",
    "    pickle.dump(tv_2gram, f, pickle.HIGHEST_PROTOCOL)"
   ]
  },
  {
   "cell_type": "code",
   "execution_count": 5,
   "metadata": {},
   "outputs": [
    {
     "ename": "NameError",
     "evalue": "name 'bow_train_features' is not defined",
     "output_type": "error",
     "traceback": [
      "\u001b[1;31m---------------------------------------------------------------------------\u001b[0m",
      "\u001b[1;31mNameError\u001b[0m                                 Traceback (most recent call last)",
      "\u001b[1;32m<ipython-input-5-0034debed29f>\u001b[0m in \u001b[0;36m<module>\u001b[1;34m\u001b[0m\n\u001b[1;32m----> 1\u001b[1;33m \u001b[0mbow_train_features\u001b[0m\u001b[1;33m\u001b[0m\u001b[1;33m\u001b[0m\u001b[0m\n\u001b[0m",
      "\u001b[1;31mNameError\u001b[0m: name 'bow_train_features' is not defined"
     ]
    }
   ],
   "source": [
    "bow_train_features"
   ]
  },
  {
   "cell_type": "code",
   "execution_count": null,
   "metadata": {},
   "outputs": [],
   "source": [
    "sentence2pre = input(\"输入待测句子：\")"
   ]
  },
  {
   "cell_type": "code",
   "execution_count": null,
   "metadata": {},
   "outputs": [],
   "source": [
    "sentence2pre"
   ]
  },
  {
   "cell_type": "code",
   "execution_count": null,
   "metadata": {},
   "outputs": [],
   "source": []
  }
 ],
 "metadata": {
  "kernelspec": {
   "display_name": "Python 3",
   "language": "python",
   "name": "python3"
  },
  "language_info": {
   "codemirror_mode": {
    "name": "ipython",
    "version": 3
   },
   "file_extension": ".py",
   "mimetype": "text/x-python",
   "name": "python",
   "nbconvert_exporter": "python",
   "pygments_lexer": "ipython3",
   "version": "3.8.3"
  }
 },
 "nbformat": 4,
 "nbformat_minor": 4
}
